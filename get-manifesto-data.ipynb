{
 "cells": [
  {
   "cell_type": "code",
   "execution_count": 2,
   "id": "f7bfd7e0-4cd3-42b2-a37b-f6b38eff7167",
   "metadata": {},
   "outputs": [],
   "source": [
    "import requests\n",
    "import pandas as pd\n",
    "\n",
    "VERSION = \"MPDS2020b\"\n",
    "KEY = \"37fdb8f6deb751264ae38c754069547f\"\n",
    "\n",
    "url = f\"https://manifesto-project.wzb.eu/api/v1/list_core_versions?api_key={KEY}.json\""
   ]
  },
  {
   "cell_type": "code",
   "execution_count": 3,
   "id": "9c61cc8b-671a-4f5c-9bb2-7c18c30a9794",
   "metadata": {},
   "outputs": [],
   "source": [
    "data = requests.get(url)"
   ]
  },
  {
   "cell_type": "code",
   "execution_count": 4,
   "id": "d150bec8-c98c-4707-acbf-ab3b38e87504",
   "metadata": {},
   "outputs": [
    {
     "data": {
      "text/plain": [
       "{'datasets': [{'id': 'MPDS2012a',\n",
       "   'name': 'Manifesto Project Dataset (version 2012a)'},\n",
       "  {'id': 'MPDS2012b', 'name': 'Manifesto Project Dataset (version 2012b)'},\n",
       "  {'id': 'MPDS2013a', 'name': 'Manifesto Project Dataset (version 2013a)'},\n",
       "  {'id': 'MPDS2013b', 'name': 'Manifesto Project Dataset (version 2013b)'},\n",
       "  {'id': 'MPDS2014a', 'name': 'Manifesto Project Dataset (version 2014a)'},\n",
       "  {'id': 'MPDS2014b', 'name': 'Manifesto Project Dataset (version 2014b)'},\n",
       "  {'id': 'MPDS2015a', 'name': 'Manifesto Project Dataset (version 2015a)'},\n",
       "  {'id': 'MPDS2016a', 'name': 'Manifesto Project Dataset (version 2016a)'},\n",
       "  {'id': 'MPDS2016b', 'name': 'Manifesto Project Dataset (version 2016b)'},\n",
       "  {'id': 'MPDS2017a', 'name': 'Manifesto Project Dataset (version 2017a)'},\n",
       "  {'id': 'MPDS2017b', 'name': 'Manifesto Project Dataset (version 2017b)'},\n",
       "  {'id': 'MPDS2018a', 'name': 'Manifesto Project Dataset (version 2018a)'},\n",
       "  {'id': 'MPDS2018b', 'name': 'Manifesto Project Dataset (version 2018b)'},\n",
       "  {'id': 'MPDS2019a', 'name': 'Manifesto Project Dataset (version 2019a)'},\n",
       "  {'id': 'MPDS2019b', 'name': 'Manifesto Project Dataset (version 2019b)'},\n",
       "  {'id': 'MPDS2020a', 'name': 'Manifesto Project Dataset (version 2020a)'},\n",
       "  {'id': 'MPDS2020b', 'name': 'Manifesto Project Dataset (version 2020b)'}]}"
      ]
     },
     "execution_count": 4,
     "metadata": {},
     "output_type": "execute_result"
    }
   ],
   "source": [
    "data.json()"
   ]
  },
  {
   "cell_type": "code",
   "execution_count": 28,
   "id": "a368962b-1643-466d-8cbe-3c71519a2eff",
   "metadata": {},
   "outputs": [],
   "source": [
    "## get meta data\n",
    "#key=MPDS2020b"
   ]
  },
  {
   "cell_type": "code",
   "execution_count": 5,
   "id": "e97d81a3-a02b-43d8-8350-a01354fe926e",
   "metadata": {},
   "outputs": [],
   "source": [
    "u = f\"https://manifesto-project.wzb.eu/api/v1/get_core?api_key={KEY}&key=MPDS2020b\"\n",
    "data = requests.get(u).json()\n",
    "columns = data[0]\n",
    "data = [l for l in data[1:] if l[1] == \"Netherlands\"]\n",
    "df = pd.DataFrame(data, columns=columns)"
   ]
  },
  {
   "cell_type": "code",
   "execution_count": 6,
   "id": "46c896e1-7139-46a0-a16b-2524bc5ba945",
   "metadata": {},
   "outputs": [
    {
     "data": {
      "text/plain": [
       "array(['194605', '194807', '195206', '195606', '195903', '196305',\n",
       "       '196702', '197104', '197211', '197705', '198105', '198209',\n",
       "       '198605', '198909', '199405', '199805', '200205', '200301',\n",
       "       '200611', '201006', '201209', '201703'], dtype=object)"
      ]
     },
     "execution_count": 6,
     "metadata": {},
     "output_type": "execute_result"
    }
   ],
   "source": [
    "df['date'].unique()"
   ]
  },
  {
   "cell_type": "code",
   "execution_count": 7,
   "id": "a3356fe7-de35-4b09-8349-256887303acc",
   "metadata": {},
   "outputs": [],
   "source": [
    "TIMEPERIODS = ['200205', '200301','200611', '201006', '201209', '201703']\n",
    "party_ids = df[df['date'].isin(TIMEPERIODS)]['party']\n",
    "partynames =  df[df['date'].isin(TIMEPERIODS)]['partyname'].to_list()"
   ]
  },
  {
   "cell_type": "code",
   "execution_count": 95,
   "id": "d0405929-b134-4534-9f91-259a33f63eab",
   "metadata": {},
   "outputs": [],
   "source": [
    "#u = f\"https://manifesto-project.wzb.eu/api/v1/metadata?api_key={KEY}&keys[]=22952_201703&version=2020-2\"\n",
    "results = []\n",
    "\n",
    "for timeperiod in TIMEPERIODS:\n",
    "    for party_id, partyname in zip(party_ids, partynames):\n",
    "        u = f\"https://manifesto-project.wzb.eu/api/v1/texts_and_annotations?api_key={KEY}&keys[]={party_id}_{timeperiod}&version=2020-2\"\n",
    "        data = requests.get(u).json()\n",
    "        print(timeperiod)\n",
    "        try:\n",
    "            df = pd.DataFrame()\n",
    "            df = pd.DataFrame(data['items'][0]['items'])\n",
    "            df['party_id'] = party_id\n",
    "            df['partyname'] = partyname\n",
    "            df['timeperiod'] = timeperiod\n",
    "            results.append(df)\n",
    "        except:\n",
    "            pass"
   ]
  },
  {
   "cell_type": "code",
   "execution_count": null,
   "id": "1adcde16-899f-40a4-b73c-8b8609dfd1ac",
   "metadata": {},
   "outputs": [],
   "source": [
    "df = pd.concat(results)"
   ]
  },
  {
   "cell_type": "code",
   "execution_count": 235,
   "id": "495e90b3-3d07-4152-86ba-de67bb69d9bc",
   "metadata": {},
   "outputs": [],
   "source": [
    "df.to_csv('data/raw/manifesto.csv')"
   ]
  }
 ],
 "metadata": {
  "kernelspec": {
   "display_name": "Python 3",
   "language": "python",
   "name": "python3"
  },
  "language_info": {
   "codemirror_mode": {
    "name": "ipython",
    "version": 3
   },
   "file_extension": ".py",
   "mimetype": "text/x-python",
   "name": "python",
   "nbconvert_exporter": "python",
   "pygments_lexer": "ipython3",
   "version": "3.8.2"
  }
 },
 "nbformat": 4,
 "nbformat_minor": 5
}
