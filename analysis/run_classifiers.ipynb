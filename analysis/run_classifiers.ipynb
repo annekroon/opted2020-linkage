{
 "cells": [
  {
   "cell_type": "code",
   "execution_count": 1,
   "id": "8209c16b",
   "metadata": {},
   "outputs": [],
   "source": [
    "#from config import manifesto_key\n",
    "import sys\n",
    "sys.path.insert(1, '../src/')\n",
    "from get_cap_dutch import Get_Cap_Data"
   ]
  },
  {
   "cell_type": "code",
   "execution_count": 2,
   "id": "3d5fd972",
   "metadata": {},
   "outputs": [],
   "source": [
    "a = Get_Cap_Data('../data/raw-fish/CAP/NL/','../src/cap_topic_codes.json', '../src/cap_dutch_files.json',)\n",
    "cap = a.get_cap_files()\n",
    "cap = cap[cap.text.notnull()]\n"
   ]
  },
  {
   "cell_type": "code",
   "execution_count": null,
   "id": "bd78be5a",
   "metadata": {},
   "outputs": [],
   "source": [
    "# read CMP data\n",
    "\n",
    "def get_cmp_data(path_to_file, cmp_codes):\n",
    "    \n",
    "    df = pd.read_csv(path_to_file)\n",
    "    df = df[['text', 'cmp_code']].dropna()\n",
    "    \n",
    "    for k, v in cmp_codes.items():\n",
    "        if type(v) is list:\n",
    "            df[k] = np.where((df['cmp_code'] == v[0] ) | (df['cmp_code'] ==v[1] ), 1, 0)\n",
    "        else:\n",
    "            df[k] = np.where(df['cmp_code'] == v, 1, 0)\n",
    "    return df\n",
    "\n",
    "\n",
    "with open('../src/cmp_topic_codes.json') as json_file: \n",
    "    cmp_codes = json.load(json_file)\n",
    "    \n",
    "cmp = get_cmp_data(path_to_file='../data/raw-fish/CMP/MPDS2020b_Netherlands.csv', cmp_codes = cmp_codes)\n"
   ]
  },
  {
   "cell_type": "code",
   "execution_count": 6,
   "id": "34885865",
   "metadata": {},
   "outputs": [
    {
     "name": "stderr",
     "output_type": "stream",
     "text": [
      "\r",
      "0it [00:00, ?it/s]"
     ]
    },
    {
     "name": "stdout",
     "output_type": "stream",
     "text": [
      "starting classification of the topic ... environment....\n",
      "majortopic:environment\n",
      "Naive Bayes score: 0.8010244286840031\n",
      "Pipeline(steps=[('vect', CountVectorizer(stop_words='english')),\n",
      "                ('clf', MultinomialNB(alpha=0.01))]) are the best estimators\n",
      "Linear SVM score: 0.7523781504364029\n",
      "Pipeline(steps=[('vect', CountVectorizer(stop_words='english')),\n",
      "                ('clf', LinearSVC(C=0.31622776601683794))]) are the best estimators\n",
      "Logistic Regression score: 0.7425490196078433\n",
      "Pipeline(steps=[('vect', CountVectorizer(stop_words='english')),\n",
      "                ('clf', LogisticRegression(C=10.0))]) are the best estimators\n"
     ]
    },
    {
     "name": "stderr",
     "output_type": "stream",
     "text": [
      "\r",
      "1it [00:03,  3.29s/it]"
     ]
    },
    {
     "name": "stdout",
     "output_type": "stream",
     "text": [
      "Random Forest score: 0.7326732673267328\n",
      "Pipeline(steps=[('vect',\n",
      "                 CountVectorizer(ngram_range=(1, 2), stop_words='english')),\n",
      "                ('clf', RandomForestClassifier(max_depth=2))]) are the best estimators\n",
      "Naive Bayes score: 0.8213443396226416\n",
      "Pipeline(steps=[('vect', TfidfVectorizer(stop_words='english')),\n",
      "                ('clf', MultinomialNB(alpha=0.001))]) are the best estimators\n",
      "Linear SVM score: 0.8115856651939126\n",
      "Pipeline(steps=[('vect', TfidfVectorizer(stop_words='english')),\n",
      "                ('clf', LinearSVC(C=0.31622776601683794))]) are the best estimators\n",
      "Logistic Regression score: 0.8216248037676609\n",
      "Pipeline(steps=[('vect', TfidfVectorizer(stop_words='english')),\n",
      "                ('clf', LogisticRegression(C=10.0))]) are the best estimators\n"
     ]
    },
    {
     "name": "stderr",
     "output_type": "stream",
     "text": [
      "2it [00:06,  3.03s/it]\n",
      "0it [00:00, ?it/s]"
     ]
    },
    {
     "name": "stdout",
     "output_type": "stream",
     "text": [
      "Random Forest score: 0.4348521183053557\n",
      "Pipeline(steps=[('vect', TfidfVectorizer(stop_words='english')),\n",
      "                ('clf', RandomForestClassifier(max_depth=1))]) are the best estimators\n",
      "..........loaded the data frame........\n",
      "../output/tables/cap_environment_f1-score.html\n",
      "saved output in ../output/tables/cap_environment_f1-score.html\n",
      "starting classification of the topic ... culture....\n",
      "majortopic:culture\n",
      "Naive Bayes score: 0.7150997150997151\n",
      "Pipeline(steps=[('vect', CountVectorizer(stop_words='english')),\n",
      "                ('clf', MultinomialNB(alpha=0.01))]) are the best estimators\n",
      "Linear SVM score: 0.6875\n",
      "Pipeline(steps=[('vect', CountVectorizer(stop_words='english')),\n",
      "                ('clf', LinearSVC(C=10.0))]) are the best estimators\n",
      "Logistic Regression score: 0.7442455242966752\n",
      "Pipeline(steps=[('vect', CountVectorizer(stop_words='english')),\n",
      "                ('clf', LogisticRegression(C=10.0))]) are the best estimators\n"
     ]
    },
    {
     "name": "stderr",
     "output_type": "stream",
     "text": [
      "\r",
      "1it [00:01,  1.09s/it]"
     ]
    },
    {
     "name": "stdout",
     "output_type": "stream",
     "text": [
      "Random Forest score: 0.6419437340153453\n",
      "Pipeline(steps=[('vect',\n",
      "                 CountVectorizer(ngram_range=(1, 2), stop_words='english')),\n",
      "                ('clf', RandomForestClassifier(max_depth=2))]) are the best estimators\n",
      "Naive Bayes score: 0.6428571428571428\n",
      "Pipeline(steps=[('vect',\n",
      "                 TfidfVectorizer(ngram_range=(1, 2), stop_words='english')),\n",
      "                ('clf', MultinomialNB(alpha=0.01))]) are the best estimators\n",
      "Linear SVM score: 0.7333333333333334\n",
      "Pipeline(steps=[('vect', TfidfVectorizer(stop_words='english')),\n",
      "                ('clf', LinearSVC(C=10.0))]) are the best estimators\n",
      "Logistic Regression score: 0.7333333333333334\n",
      "Pipeline(steps=[('vect',\n",
      "                 TfidfVectorizer(ngram_range=(1, 2), stop_words='english')),\n",
      "                ('clf', LogisticRegression(C=10.0))]) are the best estimators\n"
     ]
    },
    {
     "name": "stderr",
     "output_type": "stream",
     "text": [
      "2it [00:02,  1.10s/it]\n",
      "0it [00:00, ?it/s]"
     ]
    },
    {
     "name": "stdout",
     "output_type": "stream",
     "text": [
      "Random Forest score: 0.8\n",
      "Pipeline(steps=[('vect', TfidfVectorizer(stop_words='english')),\n",
      "                ('clf', RandomForestClassifier(max_depth=2))]) are the best estimators\n",
      "..........loaded the data frame........\n",
      "../output/tables/cap_culture_f1-score.html\n",
      "saved output in ../output/tables/cap_culture_f1-score.html\n",
      "starting classification of the topic ... civil_rights....\n",
      "majortopic:civil_rights\n",
      "Naive Bayes score: 0.6881226053639846\n",
      "Pipeline(steps=[('vect', CountVectorizer(stop_words='english')),\n",
      "                ('clf', MultinomialNB(alpha=0.01))]) are the best estimators\n",
      "Linear SVM score: 0.5520088057237205\n",
      "Pipeline(steps=[('vect', CountVectorizer(stop_words='english')),\n",
      "                ('clf', LinearSVC(C=0.01))]) are the best estimators\n",
      "Logistic Regression score: 0.5945945945945946\n",
      "Pipeline(steps=[('vect',\n",
      "                 CountVectorizer(ngram_range=(1, 2), stop_words='english')),\n",
      "                ('clf', LogisticRegression(C=0.31622776601683794))]) are the best estimators\n"
     ]
    },
    {
     "name": "stderr",
     "output_type": "stream",
     "text": [
      "\r",
      "1it [00:02,  2.52s/it]"
     ]
    },
    {
     "name": "stdout",
     "output_type": "stream",
     "text": [
      "Random Forest score: 0.4150761519182572\n",
      "Pipeline(steps=[('vect', CountVectorizer(stop_words='english')),\n",
      "                ('clf', RandomForestClassifier(max_depth=2))]) are the best estimators\n",
      "Naive Bayes score: 0.6913604766633565\n",
      "Pipeline(steps=[('vect',\n",
      "                 TfidfVectorizer(ngram_range=(1, 2), stop_words='english')),\n",
      "                ('clf', MultinomialNB(alpha=0.01))]) are the best estimators\n",
      "Linear SVM score: 0.6421130952380951\n",
      "Pipeline(steps=[('vect', TfidfVectorizer(stop_words='english')),\n",
      "                ('clf', LinearSVC(C=10.0))]) are the best estimators\n",
      "Logistic Regression score: 0.6591118481665745\n",
      "Pipeline(steps=[('vect', TfidfVectorizer(stop_words='english')),\n",
      "                ('clf', LogisticRegression(C=10.0))]) are the best estimators\n"
     ]
    },
    {
     "name": "stderr",
     "output_type": "stream",
     "text": [
      "2it [00:04,  2.37s/it]\n",
      "0it [00:00, ?it/s]"
     ]
    },
    {
     "name": "stdout",
     "output_type": "stream",
     "text": [
      "Random Forest score: 0.4329501915708812\n",
      "Pipeline(steps=[('vect', TfidfVectorizer(stop_words='english')),\n",
      "                ('clf', RandomForestClassifier(max_depth=2))]) are the best estimators\n",
      "..........loaded the data frame........\n",
      "../output/tables/cap_civil_rights_f1-score.html\n",
      "saved output in ../output/tables/cap_civil_rights_f1-score.html\n",
      "starting classification of the topic ... education....\n",
      "majortopic:education\n",
      "Naive Bayes score: 0.8702380952380953\n",
      "Pipeline(steps=[('vect', CountVectorizer(stop_words='english')),\n",
      "                ('clf', MultinomialNB(alpha=0.01))]) are the best estimators\n",
      "Linear SVM score: 0.8760189573459717\n",
      "Pipeline(steps=[('vect',\n",
      "                 CountVectorizer(ngram_range=(1, 2), stop_words='english')),\n",
      "                ('clf', LinearSVC(C=0.01))]) are the best estimators\n",
      "Logistic Regression score: 0.8760816017179309\n",
      "Pipeline(steps=[('vect', CountVectorizer(stop_words='english')),\n",
      "                ('clf', LogisticRegression(C=0.31622776601683794))]) are the best estimators\n"
     ]
    },
    {
     "name": "stderr",
     "output_type": "stream",
     "text": [
      "\r",
      "1it [00:05,  5.30s/it]"
     ]
    },
    {
     "name": "stdout",
     "output_type": "stream",
     "text": [
      "Random Forest score: 0.6579088952654233\n",
      "Pipeline(steps=[('vect',\n",
      "                 CountVectorizer(ngram_range=(1, 2), stop_words='english')),\n",
      "                ('clf', RandomForestClassifier(max_depth=2))]) are the best estimators\n",
      "Naive Bayes score: 0.8797215856039385\n",
      "Pipeline(steps=[('vect', TfidfVectorizer(stop_words='english')),\n",
      "                ('clf', MultinomialNB(alpha=0.01))]) are the best estimators\n",
      "Linear SVM score: 0.9128422027228921\n",
      "Pipeline(steps=[('vect', TfidfVectorizer(stop_words='english')),\n",
      "                ('clf', LinearSVC(C=10.0))]) are the best estimators\n",
      "Logistic Regression score: 0.9036676977463544\n",
      "Pipeline(steps=[('vect',\n",
      "                 TfidfVectorizer(ngram_range=(1, 2), stop_words='english')),\n",
      "                ('clf', LogisticRegression(C=10.0))]) are the best estimators\n"
     ]
    },
    {
     "name": "stderr",
     "output_type": "stream",
     "text": [
      "2it [00:10,  5.22s/it]\n",
      "0it [00:00, ?it/s]"
     ]
    },
    {
     "name": "stdout",
     "output_type": "stream",
     "text": [
      "Random Forest score: 0.8249661933739014\n",
      "Pipeline(steps=[('vect', TfidfVectorizer(stop_words='english')),\n",
      "                ('clf', RandomForestClassifier(max_depth=2))]) are the best estimators\n",
      "..........loaded the data frame........\n",
      "../output/tables/cap_education_f1-score.html\n",
      "saved output in ../output/tables/cap_education_f1-score.html\n",
      "starting classification of the topic ... immigration....\n",
      "majortopic:immigration\n",
      "Naive Bayes score: 0.8740229885057471\n",
      "Pipeline(steps=[('vect', CountVectorizer(stop_words='english')),\n",
      "                ('clf', MultinomialNB(alpha=0.01))]) are the best estimators\n",
      "Linear SVM score: 0.7767275097783573\n",
      "Pipeline(steps=[('vect', CountVectorizer(stop_words='english')),\n",
      "                ('clf', LinearSVC(C=0.01))]) are the best estimators\n",
      "Logistic Regression score: 0.7907027498908774\n",
      "Pipeline(steps=[('vect', CountVectorizer(stop_words='english')),\n",
      "                ('clf', LogisticRegression(C=0.31622776601683794))]) are the best estimators\n"
     ]
    },
    {
     "name": "stderr",
     "output_type": "stream",
     "text": [
      "\r",
      "1it [00:03,  3.81s/it]"
     ]
    },
    {
     "name": "stdout",
     "output_type": "stream",
     "text": [
      "Random Forest score: 0.5318562610229277\n",
      "Pipeline(steps=[('vect', CountVectorizer(stop_words='english')),\n",
      "                ('clf', RandomForestClassifier(max_depth=2))]) are the best estimators\n",
      "Naive Bayes score: 0.8803075310152019\n",
      "Pipeline(steps=[('vect',\n",
      "                 TfidfVectorizer(ngram_range=(1, 2), stop_words='english')),\n",
      "                ('clf', MultinomialNB(alpha=0.01))]) are the best estimators\n",
      "Linear SVM score: 0.8633037694013304\n",
      "Pipeline(steps=[('vect',\n",
      "                 TfidfVectorizer(ngram_range=(1, 2), stop_words='english')),\n",
      "                ('clf', LinearSVC(C=10.0))]) are the best estimators\n",
      "Logistic Regression score: 0.8705031971087018\n",
      "Pipeline(steps=[('vect',\n",
      "                 TfidfVectorizer(ngram_range=(1, 2), stop_words='english')),\n",
      "                ('clf', LogisticRegression(C=10.0))]) are the best estimators\n"
     ]
    },
    {
     "name": "stderr",
     "output_type": "stream",
     "text": [
      "2it [00:07,  3.84s/it]"
     ]
    },
    {
     "name": "stdout",
     "output_type": "stream",
     "text": [
      "Random Forest score: 0.513968957871397\n",
      "Pipeline(steps=[('vect', TfidfVectorizer(stop_words='english')),\n",
      "                ('clf', RandomForestClassifier(max_depth=2))]) are the best estimators\n",
      "..........loaded the data frame........\n",
      "../output/tables/cap_immigration_f1-score.html\n",
      "saved output in ../output/tables/cap_immigration_f1-score.html\n"
     ]
    },
    {
     "name": "stderr",
     "output_type": "stream",
     "text": [
      "\n"
     ]
    }
   ],
   "source": [
    "from traditional_sml import *\n",
    "\n",
    "def get_classification_results(dataset, name_data):\n",
    "    \n",
    "    appended_data = []    \n",
    "    \n",
    "    for t in ['environment', 'culture', 'civil_rights', 'education', 'immigration']:\n",
    "        \n",
    "        print(f\"starting classification of the topic ... {t}....\")\n",
    "        \n",
    "        cr = train_classifiers(dataset, t)\n",
    "    \n",
    "        for i in cr:\n",
    "            data = pd.DataFrame.from_dict(i)\n",
    "            appended_data.append(data)\n",
    "        df = pd.concat(appended_data)\n",
    "        df['indicators'] = df.index\n",
    "\n",
    "        b = get_cleaned_data(df)\n",
    "\n",
    "        METRICS = 'f1-score'\n",
    "\n",
    "        output_file = f'../output/tables/{name_data}_{t}_{METRICS}.html'\n",
    "        print(output_file)\n",
    "        b[b['metrics']==METRICS].to_html(output_file)\n",
    "        print(f'saved output in {output_file}')\n",
    "get_classification_results(cap, \"cap\")\n"
   ]
  },
  {
   "cell_type": "code",
   "execution_count": 7,
   "id": "7f04718c",
   "metadata": {},
   "outputs": [
    {
     "name": "stderr",
     "output_type": "stream",
     "text": [
      "\r",
      "0it [00:00, ?it/s]"
     ]
    },
    {
     "name": "stdout",
     "output_type": "stream",
     "text": [
      "starting classification of the topic ... environment....\n",
      "majortopic:environment\n",
      "Naive Bayes score: 0.8293316831683168\n",
      "Pipeline(steps=[('vect', CountVectorizer(stop_words='english')),\n",
      "                ('clf', MultinomialNB(alpha=0.01))]) are the best estimators\n",
      "Linear SVM score: 0.8179340133193709\n",
      "Pipeline(steps=[('vect', CountVectorizer(stop_words='english')),\n",
      "                ('clf', LinearSVC(C=0.31622776601683794))]) are the best estimators\n",
      "Logistic Regression score: 0.81982401191225\n",
      "Pipeline(steps=[('vect', CountVectorizer(stop_words='english')),\n",
      "                ('clf', LogisticRegression(C=0.31622776601683794))]) are the best estimators\n"
     ]
    },
    {
     "name": "stderr",
     "output_type": "stream",
     "text": [
      "\r",
      "1it [00:24, 24.30s/it]"
     ]
    },
    {
     "name": "stdout",
     "output_type": "stream",
     "text": [
      "Random Forest score: 0.6944426411944727\n",
      "Pipeline(steps=[('vect', CountVectorizer(stop_words='english')),\n",
      "                ('clf', RandomForestClassifier(max_depth=2))]) are the best estimators\n",
      "Naive Bayes score: 0.8282670930802363\n",
      "Pipeline(steps=[('vect', TfidfVectorizer(stop_words='english')),\n",
      "                ('clf', MultinomialNB(alpha=0.01))]) are the best estimators\n",
      "Linear SVM score: 0.8263939509329272\n",
      "Pipeline(steps=[('vect', TfidfVectorizer(stop_words='english')),\n",
      "                ('clf', LinearSVC(C=0.31622776601683794))]) are the best estimators\n"
     ]
    },
    {
     "name": "stderr",
     "output_type": "stream",
     "text": [
      "/Users/anne/Library/Python/3.8/lib/python/site-packages/sklearn/linear_model/_logistic.py:763: ConvergenceWarning: lbfgs failed to converge (status=1):\n",
      "STOP: TOTAL NO. of ITERATIONS REACHED LIMIT.\n",
      "\n",
      "Increase the number of iterations (max_iter) or scale the data as shown in:\n",
      "    https://scikit-learn.org/stable/modules/preprocessing.html\n",
      "Please also refer to the documentation for alternative solver options:\n",
      "    https://scikit-learn.org/stable/modules/linear_model.html#logistic-regression\n",
      "  n_iter_i = _check_optimize_result(\n"
     ]
    },
    {
     "name": "stdout",
     "output_type": "stream",
     "text": [
      "Logistic Regression score: 0.8250358091739514\n",
      "Pipeline(steps=[('vect', TfidfVectorizer(stop_words='english')),\n",
      "                ('clf', LogisticRegression(C=10.0))]) are the best estimators\n"
     ]
    },
    {
     "name": "stderr",
     "output_type": "stream",
     "text": [
      "2it [00:42, 21.25s/it]"
     ]
    },
    {
     "name": "stdout",
     "output_type": "stream",
     "text": [
      "Random Forest score: 0.6762306780731271\n",
      "Pipeline(steps=[('vect', TfidfVectorizer(stop_words='english')),\n",
      "                ('clf', RandomForestClassifier(max_depth=2))]) are the best estimators\n",
      "..........loaded the data frame........\n",
      "../output/tables/cmp_environment_f1-score.html\n"
     ]
    },
    {
     "name": "stderr",
     "output_type": "stream",
     "text": [
      "\n",
      "\r",
      "0it [00:00, ?it/s]"
     ]
    },
    {
     "name": "stdout",
     "output_type": "stream",
     "text": [
      "saved output in ../output/tables/cmp_environment_f1-score.html\n",
      "starting classification of the topic ... culture....\n",
      "majortopic:culture\n",
      "Naive Bayes score: 0.8368945678351618\n",
      "Pipeline(steps=[('vect', CountVectorizer(stop_words='english')),\n",
      "                ('clf', MultinomialNB(alpha=0.01))]) are the best estimators\n",
      "Linear SVM score: 0.8307355094177724\n",
      "Pipeline(steps=[('vect', CountVectorizer(stop_words='english')),\n",
      "                ('clf', LinearSVC(C=0.31622776601683794))]) are the best estimators\n"
     ]
    },
    {
     "name": "stderr",
     "output_type": "stream",
     "text": [
      "/Users/anne/Library/Python/3.8/lib/python/site-packages/sklearn/linear_model/_logistic.py:763: ConvergenceWarning: lbfgs failed to converge (status=1):\n",
      "STOP: TOTAL NO. of ITERATIONS REACHED LIMIT.\n",
      "\n",
      "Increase the number of iterations (max_iter) or scale the data as shown in:\n",
      "    https://scikit-learn.org/stable/modules/preprocessing.html\n",
      "Please also refer to the documentation for alternative solver options:\n",
      "    https://scikit-learn.org/stable/modules/linear_model.html#logistic-regression\n",
      "  n_iter_i = _check_optimize_result(\n"
     ]
    },
    {
     "name": "stdout",
     "output_type": "stream",
     "text": [
      "Logistic Regression score: 0.8255671280259487\n",
      "Pipeline(steps=[('vect', CountVectorizer(stop_words='english')),\n",
      "                ('clf', LogisticRegression(C=10.0))]) are the best estimators\n"
     ]
    },
    {
     "name": "stderr",
     "output_type": "stream",
     "text": [
      "\r",
      "1it [00:05,  5.83s/it]"
     ]
    },
    {
     "name": "stdout",
     "output_type": "stream",
     "text": [
      "Random Forest score: 0.7240766471147776\n",
      "Pipeline(steps=[('vect', CountVectorizer(stop_words='english')),\n",
      "                ('clf', RandomForestClassifier(max_depth=2))]) are the best estimators\n",
      "Naive Bayes score: 0.8237197307164148\n",
      "Pipeline(steps=[('vect', TfidfVectorizer(stop_words='english')),\n",
      "                ('clf', MultinomialNB(alpha=0.01))]) are the best estimators\n",
      "Linear SVM score: 0.8422719467625226\n",
      "Pipeline(steps=[('vect', TfidfVectorizer(stop_words='english')),\n",
      "                ('clf', LinearSVC(C=0.31622776601683794))]) are the best estimators\n",
      "Logistic Regression score: 0.8410828838844403\n",
      "Pipeline(steps=[('vect', TfidfVectorizer(stop_words='english')),\n",
      "                ('clf', LogisticRegression(C=10.0))]) are the best estimators\n"
     ]
    },
    {
     "name": "stderr",
     "output_type": "stream",
     "text": [
      "2it [00:11,  5.50s/it]\n",
      "0it [00:00, ?it/s]"
     ]
    },
    {
     "name": "stdout",
     "output_type": "stream",
     "text": [
      "Random Forest score: 0.7509175065731815\n",
      "Pipeline(steps=[('vect', TfidfVectorizer(stop_words='english')),\n",
      "                ('clf', RandomForestClassifier(max_depth=2))]) are the best estimators\n",
      "..........loaded the data frame........\n",
      "../output/tables/cmp_culture_f1-score.html\n",
      "saved output in ../output/tables/cmp_culture_f1-score.html\n",
      "starting classification of the topic ... civil_rights....\n",
      "majortopic:civil_rights\n",
      "Naive Bayes score: 0.7402269815747874\n",
      "Pipeline(steps=[('vect',\n",
      "                 CountVectorizer(ngram_range=(1, 2), stop_words='english')),\n",
      "                ('clf', MultinomialNB(alpha=0.01))]) are the best estimators\n",
      "Linear SVM score: 0.7409473084329734\n",
      "Pipeline(steps=[('vect',\n",
      "                 CountVectorizer(ngram_range=(1, 2), stop_words='english')),\n",
      "                ('clf', LinearSVC(C=0.31622776601683794))]) are the best estimators\n"
     ]
    },
    {
     "name": "stderr",
     "output_type": "stream",
     "text": [
      "/Users/anne/Library/Python/3.8/lib/python/site-packages/sklearn/linear_model/_logistic.py:763: ConvergenceWarning: lbfgs failed to converge (status=1):\n",
      "STOP: TOTAL NO. of ITERATIONS REACHED LIMIT.\n",
      "\n",
      "Increase the number of iterations (max_iter) or scale the data as shown in:\n",
      "    https://scikit-learn.org/stable/modules/preprocessing.html\n",
      "Please also refer to the documentation for alternative solver options:\n",
      "    https://scikit-learn.org/stable/modules/linear_model.html#logistic-regression\n",
      "  n_iter_i = _check_optimize_result(\n"
     ]
    },
    {
     "name": "stdout",
     "output_type": "stream",
     "text": [
      "Logistic Regression score: 0.7485259176494632\n",
      "Pipeline(steps=[('vect',\n",
      "                 CountVectorizer(ngram_range=(1, 2), stop_words='english')),\n",
      "                ('clf', LogisticRegression(C=10.0))]) are the best estimators\n"
     ]
    },
    {
     "name": "stderr",
     "output_type": "stream",
     "text": [
      "\r",
      "1it [00:08,  8.57s/it]"
     ]
    },
    {
     "name": "stdout",
     "output_type": "stream",
     "text": [
      "Random Forest score: 0.6065396266979379\n",
      "Pipeline(steps=[('vect', CountVectorizer(stop_words='english')),\n",
      "                ('clf', RandomForestClassifier(max_depth=2))]) are the best estimators\n",
      "Naive Bayes score: 0.7373991225694634\n",
      "Pipeline(steps=[('vect',\n",
      "                 TfidfVectorizer(ngram_range=(1, 2), stop_words='english')),\n",
      "                ('clf', MultinomialNB(alpha=0.01))]) are the best estimators\n",
      "Linear SVM score: 0.7627229143929488\n",
      "Pipeline(steps=[('vect', TfidfVectorizer(stop_words='english')),\n",
      "                ('clf', LinearSVC(C=0.31622776601683794))]) are the best estimators\n",
      "Logistic Regression score: 0.7555947541989416\n",
      "Pipeline(steps=[('vect',\n",
      "                 TfidfVectorizer(ngram_range=(1, 2), stop_words='english')),\n",
      "                ('clf', LogisticRegression(C=10.0))]) are the best estimators\n"
     ]
    },
    {
     "name": "stderr",
     "output_type": "stream",
     "text": [
      "2it [00:16,  8.08s/it]\n",
      "0it [00:00, ?it/s]"
     ]
    },
    {
     "name": "stdout",
     "output_type": "stream",
     "text": [
      "Random Forest score: 0.6727086628657184\n",
      "Pipeline(steps=[('vect', TfidfVectorizer(stop_words='english')),\n",
      "                ('clf', RandomForestClassifier(max_depth=2))]) are the best estimators\n",
      "..........loaded the data frame........\n",
      "../output/tables/cmp_civil_rights_f1-score.html\n",
      "saved output in ../output/tables/cmp_civil_rights_f1-score.html\n",
      "starting classification of the topic ... education....\n",
      "majortopic:education\n",
      "Naive Bayes score: 0.8501881387614401\n",
      "Pipeline(steps=[('vect', CountVectorizer(stop_words='english')),\n",
      "                ('clf', MultinomialNB(alpha=0.01))]) are the best estimators\n",
      "Linear SVM score: 0.8382628854810674\n",
      "Pipeline(steps=[('vect',\n",
      "                 CountVectorizer(ngram_range=(1, 2), stop_words='english')),\n",
      "                ('clf', LinearSVC(C=0.31622776601683794))]) are the best estimators\n",
      "Logistic Regression score: 0.8562508714667726\n",
      "Pipeline(steps=[('vect', CountVectorizer(stop_words='english')),\n",
      "                ('clf', LogisticRegression(C=0.31622776601683794))]) are the best estimators\n"
     ]
    },
    {
     "name": "stderr",
     "output_type": "stream",
     "text": [
      "\r",
      "1it [00:13, 13.55s/it]"
     ]
    },
    {
     "name": "stdout",
     "output_type": "stream",
     "text": [
      "Random Forest score: 0.7511563295364329\n",
      "Pipeline(steps=[('vect', CountVectorizer(stop_words='english')),\n",
      "                ('clf', RandomForestClassifier(max_depth=2))]) are the best estimators\n",
      "Naive Bayes score: 0.8245795959281728\n",
      "Pipeline(steps=[('vect',\n",
      "                 TfidfVectorizer(ngram_range=(1, 2), stop_words='english')),\n",
      "                ('clf', MultinomialNB(alpha=0.01))]) are the best estimators\n",
      "Linear SVM score: 0.8600441822639768\n",
      "Pipeline(steps=[('vect', TfidfVectorizer(stop_words='english')),\n",
      "                ('clf', LinearSVC(C=0.31622776601683794))]) are the best estimators\n",
      "Logistic Regression score: 0.8571289892003398\n",
      "Pipeline(steps=[('vect', TfidfVectorizer(stop_words='english')),\n",
      "                ('clf', LogisticRegression(C=10.0))]) are the best estimators\n"
     ]
    },
    {
     "name": "stderr",
     "output_type": "stream",
     "text": [
      "2it [00:25, 12.72s/it]\n",
      "0it [00:00, ?it/s]"
     ]
    },
    {
     "name": "stdout",
     "output_type": "stream",
     "text": [
      "Random Forest score: 0.7233141894508938\n",
      "Pipeline(steps=[('vect', TfidfVectorizer(stop_words='english')),\n",
      "                ('clf', RandomForestClassifier(max_depth=2))]) are the best estimators\n",
      "..........loaded the data frame........\n",
      "../output/tables/cmp_education_f1-score.html\n",
      "saved output in ../output/tables/cmp_education_f1-score.html\n",
      "starting classification of the topic ... immigration....\n",
      "majortopic:immigration\n",
      "Naive Bayes score: 0.7245026824289038\n",
      "Pipeline(steps=[('vect',\n",
      "                 CountVectorizer(ngram_range=(1, 2), stop_words='english')),\n",
      "                ('clf', MultinomialNB(alpha=0.01))]) are the best estimators\n",
      "Linear SVM score: 0.7423312883435583\n",
      "Pipeline(steps=[('vect',\n",
      "                 CountVectorizer(ngram_range=(1, 2), stop_words='english')),\n",
      "                ('clf', LinearSVC(C=0.31622776601683794))]) are the best estimators\n",
      "Logistic Regression score: 0.7484662576687117\n",
      "Pipeline(steps=[('vect',\n",
      "                 CountVectorizer(ngram_range=(1, 2), stop_words='english')),\n",
      "                ('clf', LogisticRegression(C=10.0))]) are the best estimators\n"
     ]
    },
    {
     "name": "stderr",
     "output_type": "stream",
     "text": [
      "\r",
      "1it [00:02,  2.86s/it]"
     ]
    },
    {
     "name": "stdout",
     "output_type": "stream",
     "text": [
      "Random Forest score: 0.6545525902668761\n",
      "Pipeline(steps=[('vect', CountVectorizer(stop_words='english')),\n",
      "                ('clf', RandomForestClassifier(max_depth=2))]) are the best estimators\n",
      "Naive Bayes score: 0.7241674351393232\n",
      "Pipeline(steps=[('vect',\n",
      "                 TfidfVectorizer(ngram_range=(1, 2), stop_words='english')),\n",
      "                ('clf', MultinomialNB(alpha=0.01))]) are the best estimators\n",
      "Linear SVM score: 0.7447045392359439\n",
      "Pipeline(steps=[('vect',\n",
      "                 TfidfVectorizer(ngram_range=(1, 2), stop_words='english')),\n",
      "                ('clf', LinearSVC(C=0.31622776601683794))]) are the best estimators\n",
      "Logistic Regression score: 0.7146997656845492\n",
      "Pipeline(steps=[('vect',\n",
      "                 TfidfVectorizer(ngram_range=(1, 2), stop_words='english')),\n",
      "                ('clf', LogisticRegression(C=0.31622776601683794))]) are the best estimators\n"
     ]
    },
    {
     "name": "stderr",
     "output_type": "stream",
     "text": [
      "2it [00:05,  2.70s/it]"
     ]
    },
    {
     "name": "stdout",
     "output_type": "stream",
     "text": [
      "Random Forest score: 0.6286169970380495\n",
      "Pipeline(steps=[('vect', TfidfVectorizer(stop_words='english')),\n",
      "                ('clf', RandomForestClassifier(max_depth=2))]) are the best estimators\n",
      "..........loaded the data frame........\n",
      "../output/tables/cmp_immigration_f1-score.html\n",
      "saved output in ../output/tables/cmp_immigration_f1-score.html\n"
     ]
    },
    {
     "name": "stderr",
     "output_type": "stream",
     "text": [
      "\n"
     ]
    }
   ],
   "source": [
    "get_classification_results(cmp, \"cmp\")\n"
   ]
  },
  {
   "cell_type": "code",
   "execution_count": null,
   "id": "e8cc7f28",
   "metadata": {},
   "outputs": [],
   "source": [
    "import json\n",
    "\n",
    "topics = { \"environment\": \"501\", \"culture\" : \"502\" , \"civil_rights\" : \"201\", \"education\" : [\"506\", \"507\"], \n",
    "                \"immigration\": [\"601\", \"602\"] }\n",
    "\n",
    "with open('../src/cmp_topic_codes.json', 'w') as fp:\n",
    "    json.dump(topics, fp)"
   ]
  }
 ],
 "metadata": {
  "kernelspec": {
   "display_name": "Python 3",
   "language": "python",
   "name": "python3"
  },
  "language_info": {
   "codemirror_mode": {
    "name": "ipython",
    "version": 3
   },
   "file_extension": ".py",
   "mimetype": "text/x-python",
   "name": "python",
   "nbconvert_exporter": "python",
   "pygments_lexer": "ipython3",
   "version": "3.8.2"
  }
 },
 "nbformat": 4,
 "nbformat_minor": 5
}
