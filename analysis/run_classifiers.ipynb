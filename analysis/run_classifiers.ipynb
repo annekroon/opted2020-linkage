{
 "cells": [
  {
   "cell_type": "code",
   "execution_count": 1,
   "id": "8209c16b",
   "metadata": {},
   "outputs": [
    {
     "name": "stdout",
     "output_type": "stream",
     "text": [
      "\n",
      "==================================================\n",
      "Train classifiers and make\n",
      "in-sample and out-of-sample predictions\n",
      "==================================================\n",
      "This code will train traditional sml classifiers, perform resampling to deal with\n",
      "unbalanced data, and make in-sample and out-of-sample predictions.\n",
      "\n"
     ]
    },
    {
     "data": {
      "text/plain": [
       "<Figure size 1440x288 with 0 Axes>"
      ]
     },
     "execution_count": 1,
     "metadata": {},
     "output_type": "execute_result"
    },
    {
     "data": {
      "text/plain": [
       "<Figure size 1440x288 with 0 Axes>"
      ]
     },
     "metadata": {},
     "output_type": "display_data"
    }
   ],
   "source": [
    "#from config import manifesto_key\n",
    "import sys\n",
    "import json\n",
    "import numpy as np\n",
    "import pandas as pd\n",
    "import seaborn as sns\n",
    "import matplotlib.pyplot as plt\n",
    "\n",
    "sys.path.insert(1, '../src/')\n",
    "from get_cap_dutch import Get_Cap_Data\n",
    "from traditional_sml import *\n",
    "\n",
    "sns.set_theme(style=\"ticks\")\n",
    "plt.figure(figsize=(20,4))"
   ]
  },
  {
   "cell_type": "markdown",
   "id": "498217dc",
   "metadata": {},
   "source": [
    "## In sample and out of sample prediction of topics that overlap in CAP and CMP\n",
    "\n",
    "This notebook trains classifiers on topics that overlap in the codebook of [CAP](https://www.comparativeagendas.net/pages/master-codebook) and [CMP](https://manifesto-project.wzb.eu/down/data/2020a/codebooks/codebook_MPDataset_MPDS2020a.pdf) respectively. \n",
    "We have selected topics for which coding instructions largely overlap. \n",
    "\n",
    "* More specifically, for **CMP**, the following codes were selected:\n",
    "\n",
    "```python\n",
    "{'environment': '501',\n",
    " 'culture': '502',\n",
    " 'civil_rights': '201',\n",
    " 'education': ['506', '507'],\n",
    " 'immigration': ['601', '602']}\n",
    "```\n",
    "\n",
    "* For, **CAP**, we have selected the following codes:\n",
    "\n",
    "```python\n",
    "{'environment': 7.0,\n",
    " 'civil_rights': 2.0,\n",
    " 'culture': 23.0,\n",
    " 'education': 6.0,\n",
    " 'immigration': 9.0}\n",
    "```\n",
    "\n",
    "Data used in this notebook:\n",
    "\n",
    "- **CMP**: \n",
    "    - country: Netherlands\n",
    "    - temporal coverage: 2002 - 2017\n",
    "    - granularity: once per election.\n",
    "    - more information [here](https://github.com/annekroon/opted2020-linkage/blob/main/reading-datafiles.ipynb)\n",
    "\n",
    "\n",
    "- **CAP**: \n",
    "    - 3 annotated Dutch datafiles, see [here](../src/cap_dutch_files.json)"
   ]
  },
  {
   "cell_type": "markdown",
   "id": "82ff3ba5",
   "metadata": {},
   "source": [
    "\n",
    "\n",
    "\n",
    "### Get CAP data"
   ]
  },
  {
   "cell_type": "code",
   "execution_count": 20,
   "id": "3d5fd972",
   "metadata": {},
   "outputs": [
    {
     "name": "stdout",
     "output_type": "stream",
     "text": [
      "The cap data contains 7745 observations in total.\n",
      "observations per class:\n",
      "environment : 252\n",
      "culture : 50\n",
      "civil_rights : 185\n",
      "education : 544\n",
      "immigration : 341\n"
     ]
    }
   ],
   "source": [
    "a = Get_Cap_Data('../data/raw-fish/CAP/NL/','../src/cap_topic_codes.json', '../src/cap_dutch_files.json',)\n",
    "cap = a.get_cap_files()\n",
    "cap = cap[cap.text.notnull()]\n",
    "\n",
    "print(f\"The cap data contains {len(cap)} observations in total.\")\n",
    "print(\"observations per class:\")\n",
    "\n",
    "for t in ['environment', 'culture', 'civil_rights', 'education', 'immigration']:\n",
    "    print(f\"{t} : {len(cap[cap[t] == 1])}\")"
   ]
  },
  {
   "cell_type": "markdown",
   "id": "50d13c4e",
   "metadata": {},
   "source": [
    "### Get CMP data"
   ]
  },
  {
   "cell_type": "code",
   "execution_count": 22,
   "id": "bd78be5a",
   "metadata": {},
   "outputs": [
    {
     "name": "stdout",
     "output_type": "stream",
     "text": [
      "The cmp data contains 97149 observations in total.\n",
      "observations per class:\n",
      "environment : 7387\n",
      "culture : 1935\n",
      "civil_rights : 2633\n",
      "education : 5075\n",
      "immigration : 815\n"
     ]
    }
   ],
   "source": [
    "# read CMP data\n",
    "def get_cmp_data(path_to_file, cmp_codes):\n",
    "    df = pd.read_csv(path_to_file)\n",
    "    df = df[['text', 'cmp_code']].dropna()\n",
    "    \n",
    "    for k, v in cmp_codes.items():\n",
    "        if type(v) is list:\n",
    "            df[k] = np.where((df['cmp_code'] == v[0] ) | (df['cmp_code'] ==v[1] ), 1, 0)\n",
    "        else:\n",
    "            df[k] = np.where(df['cmp_code'] == v, 1, 0)\n",
    "    return df\n",
    "\n",
    "\n",
    "with open('../src/cmp_topic_codes.json') as json_file: \n",
    "    cmp_codes = json.load(json_file)\n",
    "    \n",
    "cmp = get_cmp_data(path_to_file='../data/raw-fish/CMP/MPDS2020b_Netherlands.csv', cmp_codes = cmp_codes)\n",
    "\n",
    "print(f\"The cmp data contains {len(cmp)} observations in total.\")\n",
    "print(\"observations per class:\")\n",
    "\n",
    "for t in ['environment', 'culture', 'civil_rights', 'education', 'immigration']:\n",
    "    print(f\"{t} : {len(cmp[cmp[t] == 1])}\")"
   ]
  },
  {
   "cell_type": "code",
   "execution_count": 4,
   "id": "b2755d87",
   "metadata": {},
   "outputs": [],
   "source": [
    "def run_classifiers(datafile1, datafile2):\n",
    "    \n",
    "    a = Classifiers(datafile1, datafile2)\n",
    "    \n",
    "    dfs_in_sample = []\n",
    "    dfs_out_sample = []\n",
    "\n",
    "    for t in ['environment', 'culture', 'civil_rights', 'education', 'immigration']:\n",
    "        \n",
    "        df_insample, df_outsample = a.get_classification_results(t)\n",
    "\n",
    "        df_in_sample = get_cleaned_data(df_insample)\n",
    "        df_in_sample['sample'] = 'a. In sample prediction'\n",
    "        df_in_sample['topic'] = t\n",
    "        dfs_in_sample.append(df_in_sample)\n",
    "\n",
    "        df_out_sample = get_cleaned_data(df_outsample)\n",
    "        df_out_sample['sample'] = 'b. Out of sample prediction'\n",
    "        df_out_sample['topic'] = t\n",
    "        dfs_out_sample.append(df_out_sample)\n",
    "\n",
    "    in_sample = pd.concat(dfs_in_sample)\n",
    "    out_sample = pd.concat(dfs_out_sample)\n",
    "    \n",
    "    return in_sample, out_sample"
   ]
  },
  {
   "cell_type": "code",
   "execution_count": 5,
   "id": "1717d623",
   "metadata": {},
   "outputs": [],
   "source": [
    "def get_data_in_right_shape(in_sample, out_sample):\n",
    "    \n",
    "    in_sample = in_sample[in_sample['metrics'] == 'f1-score' ] # select on f1-score for now\n",
    "    \n",
    "    best_of_insample = in_sample.sort_values(['macro avg'],ascending=False).groupby(['topic']).head(5)\n",
    "    out_sample_selection = out_sample[['unique_', 'topic', 'classifier', 'vectorizer', 'accuracy', 'metrics', 'macro avg', 'weighted avg', '0', '1']]\n",
    "    out_sample_selection.rename(columns={'0': '0_out', '1': '1_out','accuracy': 'accuracy_out', 'macro avg' :'macro avg_out', 'weighted avg': 'weighted avg_out'}, inplace=True)\n",
    "    merged = pd.merge(best_of_insample, out_sample_selection, on=['unique_', 'topic', 'classifier', 'vectorizer', 'metrics'], how='inner')\n",
    "    \n",
    "    return merged\n",
    "    \n",
    "def melt_df(merged):\n",
    "    \n",
    "    merged['id'] = merged.index\n",
    "    \n",
    "    melted = pd.melt(merged, id_vars=['id', 'unique_', 'classifier', 'vectorizer', 'metrics', 'topic'], value_vars=['macro avg', 'macro avg_out'],\n",
    "        var_name='sample_metrics', value_name='f1 - macro average')\n",
    "\n",
    "    melted['sample'] = np.where(melted['sample_metrics']== 'macro avg', 'In sample prediction', 'Out of sample prediction')\n",
    "    return melted"
   ]
  },
  {
   "cell_type": "markdown",
   "id": "aee406dd",
   "metadata": {},
   "source": [
    "# 1. CMP --> CAP\n",
    "\n",
    "predicting CAP data with CMP training data "
   ]
  },
  {
   "cell_type": "code",
   "execution_count": 6,
   "id": "b5bf2ef1",
   "metadata": {},
   "outputs": [
    {
     "name": "stderr",
     "output_type": "stream",
     "text": [
      "\r",
      "0it [00:00, ?it/s]"
     ]
    },
    {
     "name": "stdout",
     "output_type": "stream",
     "text": [
      "starting classification of the topic ... environment....\n",
      "majortopic:environment\n",
      "Naive Bayes score: 0.830003016240023\n",
      "Pipeline(steps=[('vect', CountVectorizer()),\n",
      "                ('clf', MultinomialNB(alpha=0.01))]) are the best estimators\n",
      "Linear SVM score: 0.8186120018323408\n",
      "Pipeline(steps=[('vect', CountVectorizer()),\n",
      "                ('clf', LinearSVC(C=0.31622776601683794))]) are the best estimators\n"
     ]
    },
    {
     "name": "stderr",
     "output_type": "stream",
     "text": [
      "/Users/anne/Library/Python/3.8/lib/python/site-packages/sklearn/linear_model/_logistic.py:763: ConvergenceWarning: lbfgs failed to converge (status=1):\n",
      "STOP: TOTAL NO. of ITERATIONS REACHED LIMIT.\n",
      "\n",
      "Increase the number of iterations (max_iter) or scale the data as shown in:\n",
      "    https://scikit-learn.org/stable/modules/preprocessing.html\n",
      "Please also refer to the documentation for alternative solver options:\n",
      "    https://scikit-learn.org/stable/modules/linear_model.html#logistic-regression\n",
      "  n_iter_i = _check_optimize_result(\n"
     ]
    },
    {
     "name": "stdout",
     "output_type": "stream",
     "text": [
      "Logistic Regression score: 0.8208750451623904\n",
      "Pipeline(steps=[('vect', CountVectorizer()),\n",
      "                ('clf', LogisticRegression(C=0.31622776601683794))]) are the best estimators\n",
      "Random Forest score: 0.6977353017792167\n",
      "Pipeline(steps=[('vect', CountVectorizer()),\n",
      "                ('clf', RandomForestClassifier(max_depth=2))]) are the best estimators\n"
     ]
    },
    {
     "name": "stderr",
     "output_type": "stream",
     "text": [
      "\r",
      "1it [00:21, 21.70s/it]"
     ]
    },
    {
     "name": "stdout",
     "output_type": "stream",
     "text": [
      "Naive Bayes score: 0.8272400501824064\n",
      "Pipeline(steps=[('vect', TfidfVectorizer()),\n",
      "                ('clf', MultinomialNB(alpha=0.01))]) are the best estimators\n",
      "Linear SVM score: 0.8280822965788246\n",
      "Pipeline(steps=[('vect', TfidfVectorizer()),\n",
      "                ('clf', LinearSVC(C=0.31622776601683794))]) are the best estimators\n"
     ]
    },
    {
     "name": "stderr",
     "output_type": "stream",
     "text": [
      "/Users/anne/Library/Python/3.8/lib/python/site-packages/sklearn/linear_model/_logistic.py:763: ConvergenceWarning: lbfgs failed to converge (status=1):\n",
      "STOP: TOTAL NO. of ITERATIONS REACHED LIMIT.\n",
      "\n",
      "Increase the number of iterations (max_iter) or scale the data as shown in:\n",
      "    https://scikit-learn.org/stable/modules/preprocessing.html\n",
      "Please also refer to the documentation for alternative solver options:\n",
      "    https://scikit-learn.org/stable/modules/linear_model.html#logistic-regression\n",
      "  n_iter_i = _check_optimize_result(\n"
     ]
    },
    {
     "name": "stdout",
     "output_type": "stream",
     "text": [
      "Logistic Regression score: 0.8267176593689927\n",
      "Pipeline(steps=[('vect', TfidfVectorizer()),\n",
      "                ('clf', LogisticRegression(C=10.0))]) are the best estimators\n",
      "Random Forest score: 0.6908037085617551\n",
      "Pipeline(steps=[('vect', TfidfVectorizer()),\n",
      "                ('clf', RandomForestClassifier(max_depth=2))]) are the best estimators\n"
     ]
    },
    {
     "name": "stderr",
     "output_type": "stream",
     "text": [
      "2it [00:38, 19.48s/it]\n",
      "0it [00:00, ?it/s]"
     ]
    },
    {
     "name": "stdout",
     "output_type": "stream",
     "text": [
      "..........loaded the data frame........\n",
      "..........loaded the data frame........\n",
      "starting classification of the topic ... culture....\n",
      "majortopic:culture\n",
      "Naive Bayes score: 0.8330298150294237\n",
      "Pipeline(steps=[('vect', CountVectorizer()),\n",
      "                ('clf', MultinomialNB(alpha=0.01))]) are the best estimators\n",
      "Linear SVM score: 0.8242847127165893\n",
      "Pipeline(steps=[('vect', CountVectorizer()),\n",
      "                ('clf', LinearSVC(C=0.31622776601683794))]) are the best estimators\n"
     ]
    },
    {
     "name": "stderr",
     "output_type": "stream",
     "text": [
      "/Users/anne/Library/Python/3.8/lib/python/site-packages/sklearn/linear_model/_logistic.py:763: ConvergenceWarning: lbfgs failed to converge (status=1):\n",
      "STOP: TOTAL NO. of ITERATIONS REACHED LIMIT.\n",
      "\n",
      "Increase the number of iterations (max_iter) or scale the data as shown in:\n",
      "    https://scikit-learn.org/stable/modules/preprocessing.html\n",
      "Please also refer to the documentation for alternative solver options:\n",
      "    https://scikit-learn.org/stable/modules/linear_model.html#logistic-regression\n",
      "  n_iter_i = _check_optimize_result(\n"
     ]
    },
    {
     "name": "stdout",
     "output_type": "stream",
     "text": [
      "Logistic Regression score: 0.8204107386986765\n",
      "Pipeline(steps=[('vect', CountVectorizer()),\n",
      "                ('clf', LogisticRegression(C=10.0))]) are the best estimators\n",
      "Random Forest score: 0.7756644138768217\n",
      "Pipeline(steps=[('vect', CountVectorizer()),\n",
      "                ('clf', RandomForestClassifier(max_depth=2))]) are the best estimators\n"
     ]
    },
    {
     "name": "stderr",
     "output_type": "stream",
     "text": [
      "\r",
      "1it [00:07,  7.26s/it]"
     ]
    },
    {
     "name": "stdout",
     "output_type": "stream",
     "text": [
      "Naive Bayes score: 0.8238188646907993\n",
      "Pipeline(steps=[('vect', TfidfVectorizer()),\n",
      "                ('clf', MultinomialNB(alpha=0.01))]) are the best estimators\n",
      "Linear SVM score: 0.8410255639549737\n",
      "Pipeline(steps=[('vect', TfidfVectorizer()),\n",
      "                ('clf', LinearSVC(C=0.31622776601683794))]) are the best estimators\n",
      "Logistic Regression score: 0.8384988657362198\n",
      "Pipeline(steps=[('vect', TfidfVectorizer()),\n",
      "                ('clf', LogisticRegression(C=10.0))]) are the best estimators\n",
      "Random Forest score: 0.7022124164981309\n",
      "Pipeline(steps=[('vect', TfidfVectorizer()),\n",
      "                ('clf', RandomForestClassifier(max_depth=2))]) are the best estimators\n"
     ]
    },
    {
     "name": "stderr",
     "output_type": "stream",
     "text": [
      "2it [00:13,  6.94s/it]\n",
      "0it [00:00, ?it/s]"
     ]
    },
    {
     "name": "stdout",
     "output_type": "stream",
     "text": [
      "..........loaded the data frame........\n",
      "..........loaded the data frame........\n",
      "starting classification of the topic ... civil_rights....\n",
      "majortopic:civil_rights\n",
      "Naive Bayes score: 0.7382123293548111\n",
      "Pipeline(steps=[('vect', CountVectorizer(ngram_range=(1, 2))),\n",
      "                ('clf', MultinomialNB(alpha=0.01))]) are the best estimators\n",
      "Linear SVM score: 0.7286175740836103\n",
      "Pipeline(steps=[('vect', CountVectorizer()),\n",
      "                ('clf', LinearSVC(C=0.31622776601683794))]) are the best estimators\n",
      "Logistic Regression score: 0.7576978728583212\n",
      "Pipeline(steps=[('vect', CountVectorizer()),\n",
      "                ('clf', LogisticRegression(C=0.31622776601683794))]) are the best estimators\n",
      "Random Forest score: 0.6507848406672916\n",
      "Pipeline(steps=[('vect', CountVectorizer()),\n",
      "                ('clf', RandomForestClassifier(max_depth=2))]) are the best estimators\n"
     ]
    },
    {
     "name": "stderr",
     "output_type": "stream",
     "text": [
      "\r",
      "1it [00:09,  9.44s/it]"
     ]
    },
    {
     "name": "stdout",
     "output_type": "stream",
     "text": [
      "Naive Bayes score: 0.7342835534037956\n",
      "Pipeline(steps=[('vect', TfidfVectorizer(ngram_range=(1, 2))),\n",
      "                ('clf', MultinomialNB(alpha=0.01))]) are the best estimators\n",
      "Linear SVM score: 0.7684876113109578\n",
      "Pipeline(steps=[('vect', TfidfVectorizer()),\n",
      "                ('clf', LinearSVC(C=0.31622776601683794))]) are the best estimators\n",
      "Logistic Regression score: 0.7523699103525318\n",
      "Pipeline(steps=[('vect', TfidfVectorizer()),\n",
      "                ('clf', LogisticRegression(C=10.0))]) are the best estimators\n",
      "Random Forest score: 0.642848023560423\n",
      "Pipeline(steps=[('vect', TfidfVectorizer()),\n",
      "                ('clf', RandomForestClassifier(max_depth=2))]) are the best estimators\n"
     ]
    },
    {
     "name": "stderr",
     "output_type": "stream",
     "text": [
      "2it [00:17,  8.97s/it]\n",
      "0it [00:00, ?it/s]"
     ]
    },
    {
     "name": "stdout",
     "output_type": "stream",
     "text": [
      "..........loaded the data frame........\n",
      "..........loaded the data frame........\n",
      "starting classification of the topic ... education....\n",
      "majortopic:education\n",
      "Naive Bayes score: 0.8506719144773881\n",
      "Pipeline(steps=[('vect', CountVectorizer()),\n",
      "                ('clf', MultinomialNB(alpha=0.01))]) are the best estimators\n",
      "Linear SVM score: 0.8497139795976079\n",
      "Pipeline(steps=[('vect', CountVectorizer()),\n",
      "                ('clf', LinearSVC(C=0.31622776601683794))]) are the best estimators\n",
      "Logistic Regression score: 0.8562657015116032\n",
      "Pipeline(steps=[('vect', CountVectorizer()),\n",
      "                ('clf', LogisticRegression(C=0.31622776601683794))]) are the best estimators\n",
      "Random Forest score: 0.7652332001492144\n",
      "Pipeline(steps=[('vect', CountVectorizer()),\n",
      "                ('clf', RandomForestClassifier(max_depth=2))]) are the best estimators\n"
     ]
    },
    {
     "name": "stderr",
     "output_type": "stream",
     "text": [
      "\r",
      "1it [00:13, 13.57s/it]"
     ]
    },
    {
     "name": "stdout",
     "output_type": "stream",
     "text": [
      "Naive Bayes score: 0.8319249969560453\n",
      "Pipeline(steps=[('vect', TfidfVectorizer(ngram_range=(1, 2))),\n",
      "                ('clf', MultinomialNB(alpha=0.01))]) are the best estimators\n",
      "Linear SVM score: 0.8585572259241268\n",
      "Pipeline(steps=[('vect', TfidfVectorizer()),\n",
      "                ('clf', LinearSVC(C=0.31622776601683794))]) are the best estimators\n"
     ]
    },
    {
     "name": "stderr",
     "output_type": "stream",
     "text": [
      "/Users/anne/Library/Python/3.8/lib/python/site-packages/sklearn/linear_model/_logistic.py:763: ConvergenceWarning: lbfgs failed to converge (status=1):\n",
      "STOP: TOTAL NO. of ITERATIONS REACHED LIMIT.\n",
      "\n",
      "Increase the number of iterations (max_iter) or scale the data as shown in:\n",
      "    https://scikit-learn.org/stable/modules/preprocessing.html\n",
      "Please also refer to the documentation for alternative solver options:\n",
      "    https://scikit-learn.org/stable/modules/linear_model.html#logistic-regression\n",
      "  n_iter_i = _check_optimize_result(\n"
     ]
    },
    {
     "name": "stdout",
     "output_type": "stream",
     "text": [
      "Logistic Regression score: 0.853684320116604\n",
      "Pipeline(steps=[('vect', TfidfVectorizer()),\n",
      "                ('clf', LogisticRegression(C=10.0))]) are the best estimators\n",
      "Random Forest score: 0.7290586176431626\n",
      "Pipeline(steps=[('vect', TfidfVectorizer()),\n",
      "                ('clf', RandomForestClassifier(max_depth=2))]) are the best estimators\n"
     ]
    },
    {
     "name": "stderr",
     "output_type": "stream",
     "text": [
      "2it [00:26, 13.46s/it]\n",
      "0it [00:00, ?it/s]"
     ]
    },
    {
     "name": "stdout",
     "output_type": "stream",
     "text": [
      "..........loaded the data frame........\n",
      "..........loaded the data frame........\n",
      "starting classification of the topic ... immigration....\n",
      "majortopic:immigration\n",
      "Naive Bayes score: 0.7358612866634258\n",
      "Pipeline(steps=[('vect', CountVectorizer(ngram_range=(1, 2))),\n",
      "                ('clf', MultinomialNB(alpha=0.01))]) are the best estimators\n",
      "Linear SVM score: 0.7484567901234568\n",
      "Pipeline(steps=[('vect', CountVectorizer(ngram_range=(1, 2))),\n",
      "                ('clf', LinearSVC(C=0.31622776601683794))]) are the best estimators\n",
      "Logistic Regression score: 0.7453963773229828\n",
      "Pipeline(steps=[('vect', CountVectorizer(ngram_range=(1, 2))),\n",
      "                ('clf', LogisticRegression(C=10.0))]) are the best estimators\n",
      "Random Forest score: 0.578448275862069\n",
      "Pipeline(steps=[('vect', CountVectorizer()),\n",
      "                ('clf', RandomForestClassifier(max_depth=2))]) are the best estimators\n"
     ]
    },
    {
     "name": "stderr",
     "output_type": "stream",
     "text": [
      "\r",
      "1it [00:06,  6.35s/it]"
     ]
    },
    {
     "name": "stdout",
     "output_type": "stream",
     "text": [
      "Naive Bayes score: 0.7482913437616174\n",
      "Pipeline(steps=[('vect', TfidfVectorizer(ngram_range=(1, 2))),\n",
      "                ('clf', MultinomialNB(alpha=0.01))]) are the best estimators\n",
      "Linear SVM score: 0.759641560798548\n",
      "Pipeline(steps=[('vect', TfidfVectorizer(ngram_range=(1, 2))),\n",
      "                ('clf', LinearSVC(C=0.31622776601683794))]) are the best estimators\n",
      "Logistic Regression score: 0.7653787878787879\n",
      "Pipeline(steps=[('vect', TfidfVectorizer(ngram_range=(1, 2))),\n",
      "                ('clf', LogisticRegression(C=10.0))]) are the best estimators\n",
      "Random Forest score: 0.6562792877225867\n",
      "Pipeline(steps=[('vect', TfidfVectorizer()),\n",
      "                ('clf', RandomForestClassifier(max_depth=2))]) are the best estimators\n"
     ]
    },
    {
     "name": "stderr",
     "output_type": "stream",
     "text": [
      "2it [00:12,  6.27s/it]"
     ]
    },
    {
     "name": "stdout",
     "output_type": "stream",
     "text": [
      "..........loaded the data frame........\n",
      "..........loaded the data frame........\n"
     ]
    },
    {
     "name": "stderr",
     "output_type": "stream",
     "text": [
      "\n",
      "/Users/anne/Library/Python/3.8/lib/python/site-packages/pandas/core/frame.py:4441: SettingWithCopyWarning: \n",
      "A value is trying to be set on a copy of a slice from a DataFrame\n",
      "\n",
      "See the caveats in the documentation: https://pandas.pydata.org/pandas-docs/stable/user_guide/indexing.html#returning-a-view-versus-a-copy\n",
      "  return super().rename(\n"
     ]
    }
   ],
   "source": [
    "in_sample, out_sample = run_classifiers(cmp, cap)\n",
    "merged = get_data_in_right_shape(in_sample, out_sample)\n",
    "melted = melt_df(merged)"
   ]
  },
  {
   "cell_type": "code",
   "execution_count": 7,
   "id": "b57da630",
   "metadata": {},
   "outputs": [
    {
     "data": {
      "image/png": "[encoded data removed]",
      "text/plain": [
       "<Figure size 576x360 with 1 Axes>"
      ]
     },
     "metadata": {},
     "output_type": "display_data"
    }
   ],
   "source": [
    "g = sns.catplot(x=\"topic\", y=\"f1 - macro average\", hue=\"sample\", kind='bar', \n",
    "                 aspect=1.6,\n",
    "                 saturation=.5,\n",
    "                 palette=\"muted\",\n",
    "                 legend=False,\n",
    "                 data=melted)"
   ]
  },
  {
   "cell_type": "code",
   "execution_count": 10,
   "id": "ebf61801",
   "metadata": {},
   "outputs": [
    {
     "data": {
      "image/png": "[encoded data removed]",
      "text/plain": [
       "<Figure size 864x720 with 5 Axes>"
      ]
     },
     "metadata": {},
     "output_type": "display_data"
    }
   ],
   "source": [
    "g = sns.catplot(y=\"classifier\", x=\"f1 - macro average\", hue=\"sample\", col=\"topic\", kind='bar', \n",
    "                 col_wrap=3,\n",
    "                 aspect=.8,\n",
    "                 saturation=.5,\n",
    "                 palette=\"muted\",\n",
    "                 legend=False,\n",
    "                 data=melted)\n",
    "\n",
    "(g.set_axis_labels(\"Macro F1-Score\", \"\")\n",
    "  .set_titles(\"{col_name} {col_var}\"))  \n",
    "\n",
    "plt.legend(bbox_to_anchor=(1.6, 0.7), loc=9, borderaxespad=0.)\n",
    "\n",
    "g.fig.subplots_adjust(top=0.9)\n",
    "g.fig.suptitle('CMP --> CAP')\n",
    "\n",
    "plt.show()"
   ]
  },
  {
   "cell_type": "markdown",
   "id": "c57d55dc",
   "metadata": {},
   "source": [
    "# 1. CAP --> CMP\n",
    "\n",
    "predicting CMP data with CAP training data"
   ]
  },
  {
   "cell_type": "code",
   "execution_count": 11,
   "id": "71daa762",
   "metadata": {},
   "outputs": [
    {
     "name": "stderr",
     "output_type": "stream",
     "text": [
      "\r",
      "0it [00:00, ?it/s]"
     ]
    },
    {
     "name": "stdout",
     "output_type": "stream",
     "text": [
      "starting classification of the topic ... environment....\n",
      "majortopic:environment\n",
      "Naive Bayes score: 0.8216248037676609\n",
      "Pipeline(steps=[('vect', CountVectorizer(ngram_range=(1, 2))),\n",
      "                ('clf', MultinomialNB(alpha=0.001))]) are the best estimators\n",
      "Linear SVM score: 0.7425490196078433\n",
      "Pipeline(steps=[('vect', CountVectorizer(ngram_range=(1, 2))),\n",
      "                ('clf', LinearSVC(C=0.01))]) are the best estimators\n",
      "Logistic Regression score: 0.7423469387755103\n",
      "Pipeline(steps=[('vect', CountVectorizer()),\n",
      "                ('clf', LogisticRegression(C=0.31622776601683794))]) are the best estimators\n",
      "Random Forest score: 0.6806324110671937\n",
      "Pipeline(steps=[('vect', CountVectorizer()),\n",
      "                ('clf', RandomForestClassifier(max_depth=2))]) are the best estimators\n"
     ]
    },
    {
     "name": "stderr",
     "output_type": "stream",
     "text": [
      "\r",
      "1it [00:13, 13.83s/it]"
     ]
    },
    {
     "name": "stdout",
     "output_type": "stream",
     "text": [
      "Naive Bayes score: 0.831087063453025\n",
      "Pipeline(steps=[('vect', TfidfVectorizer(ngram_range=(1, 2))),\n",
      "                ('clf', MultinomialNB(alpha=0.01))]) are the best estimators\n",
      "Linear SVM score: 0.821764705882353\n",
      "Pipeline(steps=[('vect', TfidfVectorizer(ngram_range=(1, 2))),\n",
      "                ('clf', LinearSVC(C=10.0))]) are the best estimators\n",
      "Logistic Regression score: 0.8415686274509804\n",
      "Pipeline(steps=[('vect', TfidfVectorizer()),\n",
      "                ('clf', LogisticRegression(C=10.0))]) are the best estimators\n",
      "Random Forest score: 0.7423469387755102\n",
      "Pipeline(steps=[('vect', TfidfVectorizer()),\n",
      "                ('clf', RandomForestClassifier(max_depth=2))]) are the best estimators\n"
     ]
    },
    {
     "name": "stderr",
     "output_type": "stream",
     "text": [
      "2it [00:27, 13.69s/it]\n",
      "0it [00:00, ?it/s]"
     ]
    },
    {
     "name": "stdout",
     "output_type": "stream",
     "text": [
      "..........loaded the data frame........\n",
      "..........loaded the data frame........\n",
      "starting classification of the topic ... culture....\n",
      "majortopic:culture\n",
      "Naive Bayes score: 0.7150997150997151\n",
      "Pipeline(steps=[('vect', CountVectorizer(ngram_range=(1, 2))),\n",
      "                ('clf', MultinomialNB(alpha=0.001))]) are the best estimators\n",
      "Linear SVM score: 0.6875\n",
      "Pipeline(steps=[('vect', CountVectorizer()), ('clf', LinearSVC(C=10.0))]) are the best estimators\n",
      "Logistic Regression score: 0.6419437340153453\n",
      "Pipeline(steps=[('vect', CountVectorizer()),\n",
      "                ('clf', LogisticRegression(C=10.0))]) are the best estimators\n",
      "Random Forest score: 0.7493734335839599\n",
      "Pipeline(steps=[('vect', CountVectorizer()),\n",
      "                ('clf', RandomForestClassifier(max_depth=2))]) are the best estimators\n"
     ]
    },
    {
     "name": "stderr",
     "output_type": "stream",
     "text": [
      "\r",
      "1it [00:09,  9.19s/it]"
     ]
    },
    {
     "name": "stdout",
     "output_type": "stream",
     "text": [
      "Naive Bayes score: 0.7802197802197802\n",
      "Pipeline(steps=[('vect', TfidfVectorizer(ngram_range=(1, 2))),\n",
      "                ('clf', MultinomialNB(alpha=0.01))]) are the best estimators\n",
      "Linear SVM score: 0.7442455242966752\n",
      "Pipeline(steps=[('vect', TfidfVectorizer()), ('clf', LinearSVC(C=10.0))]) are the best estimators\n",
      "Logistic Regression score: 0.797979797979798\n",
      "Pipeline(steps=[('vect', TfidfVectorizer()),\n",
      "                ('clf', LogisticRegression(C=10.0))]) are the best estimators\n",
      "Random Forest score: 0.7442455242966752\n",
      "Pipeline(steps=[('vect', TfidfVectorizer()),\n",
      "                ('clf', RandomForestClassifier(max_depth=2))]) are the best estimators\n"
     ]
    },
    {
     "name": "stderr",
     "output_type": "stream",
     "text": [
      "2it [00:18,  9.14s/it]\n",
      "0it [00:00, ?it/s]"
     ]
    },
    {
     "name": "stdout",
     "output_type": "stream",
     "text": [
      "..........loaded the data frame........\n",
      "..........loaded the data frame........\n",
      "starting classification of the topic ... civil_rights....\n",
      "majortopic:civil_rights\n",
      "Naive Bayes score: 0.6738782051282051\n",
      "Pipeline(steps=[('vect', CountVectorizer(ngram_range=(1, 2))),\n",
      "                ('clf', MultinomialNB(alpha=0.01))]) are the best estimators\n",
      "Linear SVM score: 0.6483918128654971\n",
      "Pipeline(steps=[('vect', CountVectorizer()), ('clf', LinearSVC(C=0.01))]) are the best estimators\n",
      "Logistic Regression score: 0.6476190476190476\n",
      "Pipeline(steps=[('vect', CountVectorizer()),\n",
      "                ('clf', LogisticRegression(C=0.31622776601683794))]) are the best estimators\n",
      "Random Forest score: 0.4150761519182572\n",
      "Pipeline(steps=[('vect', CountVectorizer()),\n",
      "                ('clf', RandomForestClassifier(max_depth=1))]) are the best estimators\n"
     ]
    },
    {
     "name": "stderr",
     "output_type": "stream",
     "text": [
      "\r",
      "1it [00:10, 10.78s/it]"
     ]
    },
    {
     "name": "stdout",
     "output_type": "stream",
     "text": [
      "Naive Bayes score: 0.6619662363455809\n",
      "Pipeline(steps=[('vect', TfidfVectorizer(ngram_range=(1, 2))),\n",
      "                ('clf', MultinomialNB(alpha=0.01))]) are the best estimators\n",
      "Linear SVM score: 0.6570898980537535\n",
      "Pipeline(steps=[('vect', TfidfVectorizer()), ('clf', LinearSVC(C=10.0))]) are the best estimators\n",
      "Logistic Regression score: 0.6570898980537535\n",
      "Pipeline(steps=[('vect', TfidfVectorizer()),\n",
      "                ('clf', LogisticRegression(C=10.0))]) are the best estimators\n",
      "Random Forest score: 0.4329501915708812\n",
      "Pipeline(steps=[('vect', TfidfVectorizer()),\n",
      "                ('clf', RandomForestClassifier(max_depth=2))]) are the best estimators\n"
     ]
    },
    {
     "name": "stderr",
     "output_type": "stream",
     "text": [
      "2it [00:21, 10.59s/it]\n",
      "0it [00:00, ?it/s]"
     ]
    },
    {
     "name": "stdout",
     "output_type": "stream",
     "text": [
      "..........loaded the data frame........\n",
      "..........loaded the data frame........\n",
      "starting classification of the topic ... education....\n",
      "majortopic:education\n",
      "Naive Bayes score: 0.8699838118769703\n",
      "Pipeline(steps=[('vect', CountVectorizer()),\n",
      "                ('clf', MultinomialNB(alpha=0.01))]) are the best estimators\n",
      "Linear SVM score: 0.8669472798063769\n",
      "Pipeline(steps=[('vect', CountVectorizer()),\n",
      "                ('clf', LinearSVC(C=0.31622776601683794))]) are the best estimators\n",
      "Logistic Regression score: 0.8577712301378513\n",
      "Pipeline(steps=[('vect', CountVectorizer()),\n",
      "                ('clf', LogisticRegression(C=0.31622776601683794))]) are the best estimators\n",
      "Random Forest score: 0.8089966876803077\n",
      "Pipeline(steps=[('vect', CountVectorizer()),\n",
      "                ('clf', RandomForestClassifier(max_depth=2))]) are the best estimators\n"
     ]
    },
    {
     "name": "stderr",
     "output_type": "stream",
     "text": [
      "\r",
      "1it [00:12, 12.63s/it]"
     ]
    },
    {
     "name": "stdout",
     "output_type": "stream",
     "text": [
      "Naive Bayes score: 0.8797215856039385\n",
      "Pipeline(steps=[('vect', TfidfVectorizer()),\n",
      "                ('clf', MultinomialNB(alpha=0.01))]) are the best estimators\n",
      "Linear SVM score: 0.88989898989899\n",
      "Pipeline(steps=[('vect', TfidfVectorizer()), ('clf', LinearSVC(C=10.0))]) are the best estimators\n",
      "Logistic Regression score: 0.8990740740740741\n",
      "Pipeline(steps=[('vect', TfidfVectorizer()),\n",
      "                ('clf', LogisticRegression(C=10.0))]) are the best estimators\n",
      "Random Forest score: 0.6999569892473118\n",
      "Pipeline(steps=[('vect', TfidfVectorizer()),\n",
      "                ('clf', RandomForestClassifier(max_depth=2))]) are the best estimators\n"
     ]
    },
    {
     "name": "stderr",
     "output_type": "stream",
     "text": [
      "2it [00:24, 12.20s/it]\n",
      "0it [00:00, ?it/s]"
     ]
    },
    {
     "name": "stdout",
     "output_type": "stream",
     "text": [
      "..........loaded the data frame........\n",
      "..........loaded the data frame........\n",
      "starting classification of the topic ... immigration....\n",
      "majortopic:immigration\n",
      "Naive Bayes score: 0.8655699855699854\n",
      "Pipeline(steps=[('vect', CountVectorizer()),\n",
      "                ('clf', MultinomialNB(alpha=0.001))]) are the best estimators\n",
      "Linear SVM score: 0.7596491228070176\n",
      "Pipeline(steps=[('vect', CountVectorizer()),\n",
      "                ('clf', LinearSVC(C=0.31622776601683794))]) are the best estimators\n"
     ]
    },
    {
     "name": "stderr",
     "output_type": "stream",
     "text": [
      "/Users/anne/Library/Python/3.8/lib/python/site-packages/sklearn/linear_model/_logistic.py:763: ConvergenceWarning: lbfgs failed to converge (status=1):\n",
      "STOP: TOTAL NO. of ITERATIONS REACHED LIMIT.\n",
      "\n",
      "Increase the number of iterations (max_iter) or scale the data as shown in:\n",
      "    https://scikit-learn.org/stable/modules/preprocessing.html\n",
      "Please also refer to the documentation for alternative solver options:\n",
      "    https://scikit-learn.org/stable/modules/linear_model.html#logistic-regression\n",
      "  n_iter_i = _check_optimize_result(\n"
     ]
    },
    {
     "name": "stdout",
     "output_type": "stream",
     "text": [
      "Logistic Regression score: 0.7977030352748155\n",
      "Pipeline(steps=[('vect', CountVectorizer()),\n",
      "                ('clf', LogisticRegression(C=10.0))]) are the best estimators\n",
      "Random Forest score: 0.4956492637215528\n",
      "Pipeline(steps=[('vect', CountVectorizer()),\n",
      "                ('clf', RandomForestClassifier(max_depth=2))]) are the best estimators\n"
     ]
    },
    {
     "name": "stderr",
     "output_type": "stream",
     "text": [
      "\r",
      "1it [00:11, 11.12s/it]"
     ]
    },
    {
     "name": "stdout",
     "output_type": "stream",
     "text": [
      "Naive Bayes score: 0.8729128014842301\n",
      "Pipeline(steps=[('vect', TfidfVectorizer(ngram_range=(1, 2))),\n",
      "                ('clf', MultinomialNB(alpha=0.01))]) are the best estimators\n",
      "Linear SVM score: 0.8338844797178129\n",
      "Pipeline(steps=[('vect', TfidfVectorizer(ngram_range=(1, 2))),\n",
      "                ('clf', LinearSVC(C=10.0))]) are the best estimators\n",
      "Logistic Regression score: 0.8582938646632914\n",
      "Pipeline(steps=[('vect', TfidfVectorizer()),\n",
      "                ('clf', LogisticRegression(C=10.0))]) are the best estimators\n",
      "Random Forest score: 0.5766332339387368\n",
      "Pipeline(steps=[('vect', TfidfVectorizer()),\n",
      "                ('clf', RandomForestClassifier(max_depth=2))]) are the best estimators\n"
     ]
    },
    {
     "name": "stderr",
     "output_type": "stream",
     "text": [
      "2it [00:24, 12.28s/it]"
     ]
    },
    {
     "name": "stdout",
     "output_type": "stream",
     "text": [
      "..........loaded the data frame........\n",
      "..........loaded the data frame........\n"
     ]
    },
    {
     "name": "stderr",
     "output_type": "stream",
     "text": [
      "\n",
      "/Users/anne/Library/Python/3.8/lib/python/site-packages/pandas/core/frame.py:4441: SettingWithCopyWarning: \n",
      "A value is trying to be set on a copy of a slice from a DataFrame\n",
      "\n",
      "See the caveats in the documentation: https://pandas.pydata.org/pandas-docs/stable/user_guide/indexing.html#returning-a-view-versus-a-copy\n",
      "  return super().rename(\n"
     ]
    }
   ],
   "source": [
    "in_sample, out_sample = run_classifiers(cap, cmp)\n",
    "merged = get_data_in_right_shape(in_sample, out_sample)\n",
    "melted = melt_df(merged)"
   ]
  },
  {
   "cell_type": "code",
   "execution_count": 27,
   "id": "eb847643",
   "metadata": {},
   "outputs": [
    {
     "data": {
      "image/png": "[encoded data removed]",
      "text/plain": [
       "<Figure size 576x360 with 1 Axes>"
      ]
     },
     "metadata": {},
     "output_type": "display_data"
    }
   ],
   "source": [
    "g = sns.catplot(x=\"topic\", y=\"f1 - macro average\", hue=\"sample\", kind='bar', \n",
    "                 aspect=1.6,\n",
    "                 saturation=.5,\n",
    "                 palette=\"muted\",\n",
    "                 legend=False,\n",
    "                 data=melted)"
   ]
  },
  {
   "cell_type": "code",
   "execution_count": 28,
   "id": "06132b6f",
   "metadata": {},
   "outputs": [
    {
     "data": {
      "image/png": "[encoded data removed]",
      "text/plain": [
       "<Figure size 864x720 with 5 Axes>"
      ]
     },
     "metadata": {},
     "output_type": "display_data"
    }
   ],
   "source": [
    "g = sns.catplot(y=\"classifier\", x=\"f1 - macro average\", hue=\"sample\", col=\"topic\", kind='bar', \n",
    "                 col_wrap=3,\n",
    "                 aspect=.8,\n",
    "                 saturation=.5,\n",
    "                 palette=\"muted\",\n",
    "                 legend=False,\n",
    "                 data=melted)\n",
    "\n",
    "(g.set_axis_labels(\"Macro F1-Sczore\", \"\")\n",
    "  .set_titles(\"{col_name} {col_var}\"))  \n",
    "\n",
    "plt.legend(bbox_to_anchor=(1.6, 0.7), loc=9, borderaxespad=0.)\n",
    "\n",
    "g.fig.subplots_adjust(top=0.9)\n",
    "g.fig.suptitle('CAP --> CMP')\n",
    "\n",
    "plt.show()"
   ]
  }
 ],
 "metadata": {
  "kernelspec": {
   "display_name": "Python 3",
   "language": "python",
   "name": "python3"
  },
  "language_info": {
   "codemirror_mode": {
    "name": "ipython",
    "version": 3
   },
   "file_extension": ".py",
   "mimetype": "text/x-python",
   "name": "python",
   "nbconvert_exporter": "python",
   "pygments_lexer": "ipython3",
   "version": "3.8.2"
  }
 },
 "nbformat": 4,
 "nbformat_minor": 5
}
